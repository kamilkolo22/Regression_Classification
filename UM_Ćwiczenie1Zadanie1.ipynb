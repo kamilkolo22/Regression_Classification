{
 "cells": [
  {
   "cell_type": "markdown",
   "metadata": {},
   "source": [
    "# Ćwiczenie 1\n",
    "## Zadanie 1\n",
    "Izabela Stobiecka"
   ]
  },
  {
   "cell_type": "markdown",
   "metadata": {},
   "source": [
    "Zacznijmy od zimportowania wszystkich pakietów użytych w klasie i w przykładzie:"
   ]
  },
  {
   "cell_type": "code",
   "execution_count": 1,
   "metadata": {},
   "outputs": [],
   "source": [
    "import numpy as np\n",
    "import pandas as pd\n",
    "from sklearn import datasets\n",
    "from sklearn.model_selection import train_test_split\n",
    "from sklearn.metrics import accuracy_score\n",
    "from sklearn.model_selection import KFold \n",
    "from sklearn.metrics import confusion_matrix\n",
    "from statistics import mode\n",
    "from collections import Counter"
   ]
  },
  {
   "cell_type": "markdown",
   "metadata": {},
   "source": [
    "### Klasa moj_model "
   ]
  },
  {
   "cell_type": "code",
   "execution_count": 2,
   "metadata": {},
   "outputs": [],
   "source": [
    "class moj_model(object):\n",
    "    \"\"\"\n",
    "    Klasa wykonująca algorytm klasyfikatora kNN z adaptacyjnym doborem parametru k. \n",
    "    Odległość jest wyznaczana za pomocą metryki euklidesowej.\n",
    "    \"\"\"\n",
    "    \n",
    "    def __init__(self, n_neighbors = 0, kmax = 10, shuffle = False, nsplits = 5):\n",
    "        \"\"\"\n",
    "        :param n_neighbors: int, k najbliższych sąsiadów które chcemy brać pod uwagę przy predykcji,\n",
    "                            jeśli = 0 klasyfikator sam dobiera parametr k \n",
    "        :param kmax:        int, maksymalne k najbliższych sąsiadów dla których sprawdzany jest wynik cross validation,\n",
    "                            jeśli = 0, sprawdzone zostanie każde k\n",
    "        :param shuffle:     boolean, gdy True- zbiór treningowy jest tasowany przed dokonaniem cross validation\n",
    "        :param nsplits:     int, liczba podziałów przy cross validation\n",
    "        \"\"\"\n",
    "        self.n_neighbors = n_neighbors\n",
    "        self.nsplits = nsplits\n",
    "        self.kmax = kmax\n",
    "        self.shuffle = shuffle\n",
    "        \n",
    "    def __typeCheck(self, X):\n",
    "        \"\"\"\n",
    "        Zamiana pandas data frame na numpy ndarray (jeśli konieczna)\n",
    "        \"\"\"     \n",
    "        if type(X) == pd.core.frame.DataFrame:\n",
    "            X = pd.DataFrame.to_numpy(X)\n",
    "        return X\n",
    "\n",
    "        \n",
    "    def __prefit(self, X_train, y_train):\n",
    "        \"\"\"\n",
    "        Dokonuje wstępnego przygotowania danych do predykcji\n",
    "        :param X_train: numpy.ndarray, tablica z wartościami zmiennej objaśniajacej zbioru treningowego \n",
    "        :param y_train: numpy.ndarray, tablica z wartościami klas zbioru treningowego\n",
    "        :param size:    int, liczba rekordów w X_train\n",
    "        :param dim:     int, liczba atrybutów w X_train\n",
    "        \"\"\"\n",
    "        self.X_train = self.__typeCheck(X_train)\n",
    "        self.y_train = y_train         \n",
    "        self.size = len(self.X_train) \n",
    "        self.dim = len(self.X_train[0]) \n",
    "    \n",
    "    def fit(self, X_train, y_train):\n",
    "        \"\"\"\n",
    "        Dopasowuje model do zbioru treningowego.\n",
    "        Jeśli n_neighbors = 0, dokonuje doboru liczby najbliższych sąsiadów na podstawie wyniku accuracy\n",
    "        w cross validacji na zbiorze treningowym (wybierane jest k dla którego najniższy wynik w CV jest największy)\n",
    "        :param k : dopasowana do danych treningowych liczba najbliższych sąsiadów\n",
    "        \"\"\"   \n",
    "        self.__prefit(X_train, y_train) \n",
    "        \n",
    "        if self.kmax == 0:\n",
    "            self.kmax = self.size      \n",
    "              \n",
    "        if self.n_neighbors == 0:\n",
    "            kf = KFold(n_splits = self.nsplits, shuffle = self.shuffle) \n",
    "            k_array = np.full(self.kmax, 0.0)\n",
    "            indexk = 0\n",
    "\n",
    "            for k in range(1,self.kmax + 1):\n",
    "                self.k = k\n",
    "                scores = np.full(self.nsplits, 0.0)\n",
    "                indexCV = 0\n",
    "                kf.get_n_splits(self.X_train)\n",
    "\n",
    "                for train_index, test_index in kf.split(self.X_train):\n",
    "                    X_trainCV, X_testCV = self.X_train[train_index], self.X_train[test_index]\n",
    "                    y_trainCV, y_testCV = self.y_train[train_index], self.y_train[test_index]\n",
    "                    self.__prefit(X_trainCV, y_trainCV) \n",
    "                    pr = self.predict(X_testCV)\n",
    "                    acS = accuracy_score(y_testCV, pr)\n",
    "                    scores[indexCV] = acS\n",
    "                    indexCV += 1\n",
    "                    #Powrót do wejściowego zbioru treningowego:\n",
    "                    self.__prefit(X_train, y_train)\n",
    "                \n",
    "                scores = np.sort(scores)\n",
    "                k_array[indexk] = scores[0]\n",
    "                indexk += 1\n",
    "\n",
    "            self.k = np.argmax(k_array) + 1\n",
    "        else:\n",
    "            self.k = self.n_neighbors\n",
    "        \n",
    "    def predict(self, X_test):\n",
    "        \"\"\"\n",
    "        Dokonuje predykcji na zbiorze testowym.\n",
    "        Dla każdego rekordu w X_test oblicza odległości w metryce euklidesowej do wszystkich elementów\n",
    "        zbioru treningowego i wybiera k najmniejszych z nich. Następnie oblicza modę z klas k najbliższych\n",
    "        sąsiadów i zwraca ją jako predykowaną klasę. \n",
    "        :param size_test:     int, rozmiar zbioru testowego\n",
    "        \"\"\"\n",
    "        self.X_test = self.__typeCheck(X_test)\n",
    "        self.size_test = len(self.X_test)\n",
    "        self.y_test = np.full(self.size_test, 0)\n",
    "        distances = np.full((self.size,2),0.0)\n",
    "        indexq = 0\n",
    "        for q in self.X_test:\n",
    "            index = 0\n",
    "            for a in self.X_train:                          \n",
    "                dist = np.linalg.norm(a-q)\n",
    "                distances[index,0] = dist\n",
    "                distances[index,1] = self.y_train[index]\n",
    "                index += 1 \n",
    "            distances = distances[distances[:,0].argsort()]\n",
    "            SmallestDistances = distances[0:self.k]\n",
    "            #cl = mode(SmallestDistances[:,1])- ta funkcja niestety nie radzi sobie z więcej niż jedną modą\n",
    "            cl = Counter(SmallestDistances[:,1]).most_common(1)[0][0]\n",
    "            self.y_test[indexq] = cl\n",
    "            indexq += 1\n",
    "        return self.y_test\n",
    "        "
   ]
  },
  {
   "cell_type": "markdown",
   "metadata": {},
   "source": [
    "### Przykład działania\n",
    "Ładujemy zbiór danych o irysach."
   ]
  },
  {
   "cell_type": "code",
   "execution_count": 3,
   "metadata": {},
   "outputs": [],
   "source": [
    "dataset = datasets.load_iris()\n",
    "X = dataset.data\n",
    "y = dataset.target\n",
    "df = pd.DataFrame(X) "
   ]
  },
  {
   "cell_type": "markdown",
   "metadata": {},
   "source": [
    "Dokonujemy rozdzielenia danych na zbiór treningowy i testowy."
   ]
  },
  {
   "cell_type": "code",
   "execution_count": 4,
   "metadata": {},
   "outputs": [],
   "source": [
    "X_train, X_test, y_train, y_test = train_test_split(df, y, test_size=0.2)"
   ]
  },
  {
   "cell_type": "markdown",
   "metadata": {},
   "source": [
    "Inicjalizujemy nasz model (ustawiłam `shuffle = True`, ponieważ zbiór danych irysy jest pogrupowany ze względu na klasy,\n",
    "co przeszkadza w skutecznej cross validacji). Dopasowujemy model do danych i dokonujemy predykcji na zbiorze testowym."
   ]
  },
  {
   "cell_type": "code",
   "execution_count": 5,
   "metadata": {},
   "outputs": [],
   "source": [
    "kNN = moj_model(shuffle = True)\n",
    "kNN.fit(X_train, y_train)\n",
    "pr = kNN.predict(X_test)"
   ]
  },
  {
   "cell_type": "markdown",
   "metadata": {},
   "source": [
    "Sprawdzamy wynik accuracy i to, jaką liczbę k najbliższych sąsiadów dopasował nasz model. Następnie wywołujemy macierz pomyłek."
   ]
  },
  {
   "cell_type": "code",
   "execution_count": 6,
   "metadata": {},
   "outputs": [
    {
     "name": "stdout",
     "output_type": "stream",
     "text": [
      "Otrzymaliśmy accuracy:  0.9666666666666667 przy k najbliższych sąsiadów równym 4\n"
     ]
    }
   ],
   "source": [
    "print('Otrzymaliśmy accuracy: ',accuracy_score(y_test, pr), 'przy k najbliższych sąsiadów równym', kNN.k)"
   ]
  },
  {
   "cell_type": "code",
   "execution_count": 7,
   "metadata": {},
   "outputs": [
    {
     "data": {
      "text/html": [
       "<div>\n",
       "<style scoped>\n",
       "    .dataframe tbody tr th:only-of-type {\n",
       "        vertical-align: middle;\n",
       "    }\n",
       "\n",
       "    .dataframe tbody tr th {\n",
       "        vertical-align: top;\n",
       "    }\n",
       "\n",
       "    .dataframe thead th {\n",
       "        text-align: right;\n",
       "    }\n",
       "</style>\n",
       "<table border=\"1\" class=\"dataframe\">\n",
       "  <thead>\n",
       "    <tr style=\"text-align: right;\">\n",
       "      <th></th>\n",
       "      <th>0</th>\n",
       "      <th>1</th>\n",
       "      <th>2</th>\n",
       "    </tr>\n",
       "  </thead>\n",
       "  <tbody>\n",
       "    <tr>\n",
       "      <th>0</th>\n",
       "      <td>13</td>\n",
       "      <td>0</td>\n",
       "      <td>0</td>\n",
       "    </tr>\n",
       "    <tr>\n",
       "      <th>1</th>\n",
       "      <td>0</td>\n",
       "      <td>5</td>\n",
       "      <td>1</td>\n",
       "    </tr>\n",
       "    <tr>\n",
       "      <th>2</th>\n",
       "      <td>0</td>\n",
       "      <td>0</td>\n",
       "      <td>11</td>\n",
       "    </tr>\n",
       "  </tbody>\n",
       "</table>\n",
       "</div>"
      ],
      "text/plain": [
       "    0  1   2\n",
       "0  13  0   0\n",
       "1   0  5   1\n",
       "2   0  0  11"
      ]
     },
     "execution_count": 7,
     "metadata": {},
     "output_type": "execute_result"
    }
   ],
   "source": [
    "pd.DataFrame(confusion_matrix(y_test, pr))"
   ]
  },
  {
   "cell_type": "markdown",
   "metadata": {},
   "source": [
    "### Porównanie z klasyfikatorem z pakietu sklearn\n",
    "Porównajmy teraz nasz model z klasyfikatorem z pakietu sklearn przy tym samym k:"
   ]
  },
  {
   "cell_type": "code",
   "execution_count": 8,
   "metadata": {},
   "outputs": [],
   "source": [
    "from sklearn.neighbors import KNeighborsClassifier\n",
    "\n",
    "kNN2 = KNeighborsClassifier(n_neighbors = kNN.k)\n",
    "kNN2.fit(X_train, y_train)\n",
    "pr2 = kNN2.predict(X_test)"
   ]
  },
  {
   "cell_type": "code",
   "execution_count": 9,
   "metadata": {},
   "outputs": [
    {
     "name": "stdout",
     "output_type": "stream",
     "text": [
      "Otrzymaliśmy accuracy:  0.9666666666666667 przy k najbliższych sąsiadów równym 4\n"
     ]
    }
   ],
   "source": [
    "print('Otrzymaliśmy accuracy: ',accuracy_score(y_test, pr2), 'przy k najbliższych sąsiadów równym', kNN.k)"
   ]
  },
  {
   "cell_type": "code",
   "execution_count": 10,
   "metadata": {},
   "outputs": [
    {
     "data": {
      "text/html": [
       "<div>\n",
       "<style scoped>\n",
       "    .dataframe tbody tr th:only-of-type {\n",
       "        vertical-align: middle;\n",
       "    }\n",
       "\n",
       "    .dataframe tbody tr th {\n",
       "        vertical-align: top;\n",
       "    }\n",
       "\n",
       "    .dataframe thead th {\n",
       "        text-align: right;\n",
       "    }\n",
       "</style>\n",
       "<table border=\"1\" class=\"dataframe\">\n",
       "  <thead>\n",
       "    <tr style=\"text-align: right;\">\n",
       "      <th></th>\n",
       "      <th>0</th>\n",
       "      <th>1</th>\n",
       "      <th>2</th>\n",
       "    </tr>\n",
       "  </thead>\n",
       "  <tbody>\n",
       "    <tr>\n",
       "      <th>0</th>\n",
       "      <td>13</td>\n",
       "      <td>0</td>\n",
       "      <td>0</td>\n",
       "    </tr>\n",
       "    <tr>\n",
       "      <th>1</th>\n",
       "      <td>0</td>\n",
       "      <td>5</td>\n",
       "      <td>1</td>\n",
       "    </tr>\n",
       "    <tr>\n",
       "      <th>2</th>\n",
       "      <td>0</td>\n",
       "      <td>0</td>\n",
       "      <td>11</td>\n",
       "    </tr>\n",
       "  </tbody>\n",
       "</table>\n",
       "</div>"
      ],
      "text/plain": [
       "    0  1   2\n",
       "0  13  0   0\n",
       "1   0  5   1\n",
       "2   0  0  11"
      ]
     },
     "execution_count": 10,
     "metadata": {},
     "output_type": "execute_result"
    }
   ],
   "source": [
    "pd.DataFrame(confusion_matrix(y_test, pr2))"
   ]
  },
  {
   "cell_type": "markdown",
   "metadata": {},
   "source": [
    "Zazwyczaj oba klasyfikatory dokonują ten samej predykcji (czasem zdarza się różnica w pojedynczej predykcji, która wynika prawdopodobnie z inaczej obliczonej mody). Porównajmy jeszcze czas wykonania. "
   ]
  },
  {
   "cell_type": "code",
   "execution_count": 11,
   "metadata": {},
   "outputs": [
    {
     "name": "stdout",
     "output_type": "stream",
     "text": [
      "30.4 ms ± 3.2 ms per loop (mean ± std. dev. of 7 runs, 10 loops each)\n"
     ]
    }
   ],
   "source": [
    "kNN = moj_model(n_neighbors = kNN.k)\n",
    "kNN.fit(X_train, y_train)\n",
    "%timeit kNN.predict(X_test)"
   ]
  },
  {
   "cell_type": "code",
   "execution_count": 12,
   "metadata": {},
   "outputs": [
    {
     "name": "stdout",
     "output_type": "stream",
     "text": [
      "2.18 ms ± 301 µs per loop (mean ± std. dev. of 7 runs, 100 loops each)\n"
     ]
    }
   ],
   "source": [
    "kNN2 = KNeighborsClassifier(n_neighbors = kNN.k)\n",
    "kNN2.fit(X_train, y_train)\n",
    "%timeit pr2 = kNN2.predict(X_test)"
   ]
  },
  {
   "cell_type": "markdown",
   "metadata": {},
   "source": [
    "Jak można było się spodziewać, klasyfikator z pakietu sklearn dokonał predykcji znacząco szybciej."
   ]
  },
  {
   "cell_type": "code",
   "execution_count": null,
   "outputs": [],
   "source": [
    "print('he;llo')"
   ],
   "metadata": {
    "collapsed": false,
    "pycharm": {
     "name": "#%%\n"
    }
   }
  },
  {
   "cell_type": "markdown",
   "source": [],
   "metadata": {
    "collapsed": false
   }
  }
 ],
 "metadata": {
  "kernelspec": {
   "display_name": "Python 3",
   "language": "python",
   "name": "python3"
  },
  "language_info": {
   "codemirror_mode": {
    "name": "ipython",
    "version": 3
   },
   "file_extension": ".py",
   "mimetype": "text/x-python",
   "name": "python",
   "nbconvert_exporter": "python",
   "pygments_lexer": "ipython3",
   "version": "3.7.4"
  }
 },
 "nbformat": 4,
 "nbformat_minor": 2
}